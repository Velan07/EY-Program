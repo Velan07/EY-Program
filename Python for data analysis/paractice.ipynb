{
 "cells": [
  {
   "cell_type": "markdown",
   "metadata": {},
   "source": [
    "## Paractice lab"
   ]
  },
  {
   "cell_type": "markdown",
   "metadata": {},
   "source": [
    "#### Lambda function for square the element of list"
   ]
  },
  {
   "cell_type": "code",
   "execution_count": 13,
   "metadata": {},
   "outputs": [
    {
     "data": {
      "text/plain": [
       "[4, 16, 36, 64, 1, 9, 25]"
      ]
     },
     "execution_count": 13,
     "metadata": {},
     "output_type": "execute_result"
    }
   ],
   "source": [
    "#getting input from user\n",
    "nos = input(\"Enter no for the list seperated by spaces : \").split()\n",
    "#converting string to int and storing in a list\n",
    "num_list = list(map(int, nos))\n",
    "#creating lambda function for square\n",
    "square = lambda a: a**2\n",
    "#applying map on num_list using square as key\n",
    "squared = list(map(square, num_list))\n",
    "squared"
   ]
  },
  {
   "cell_type": "markdown",
   "metadata": {},
   "source": [
    "##### Write a Python program that allows a teacher to input the names and grades of students. Store this information in a dictionary where the student names are keys and the grades are values. After inputting the data, display the student names and their corresponding grades."
   ]
  },
  {
   "cell_type": "code",
   "execution_count": 17,
   "metadata": {},
   "outputs": [
    {
     "data": {
      "text/plain": [
       "{'AAA': ['98', '85', '91']}"
      ]
     },
     "execution_count": 17,
     "metadata": {},
     "output_type": "execute_result"
    }
   ],
   "source": [
    "#getting name\n",
    "name = input(\"Enter name: \")\n",
    "grade_list = []\n",
    "dic = {}\n",
    "#getting grades\n",
    "for i in range(3):\n",
    "\tgrade = input(f\"Enter grade {i+1}: \")\n",
    "\tgrade_list.append(grade)\n",
    "#adding inputs to dict\n",
    "dic.update({name:grade_list})\n",
    "dic\n"
   ]
  },
  {
   "cell_type": "markdown",
   "metadata": {},
   "source": [
    "##### Write a Python program that takes a sentence as input and capitalizes the first letter of each word in the sentence."
   ]
  },
  {
   "cell_type": "code",
   "execution_count": null,
   "metadata": {},
   "outputs": [],
   "source": []
  },
  {
   "cell_type": "markdown",
   "metadata": {},
   "source": [
    "##### Write a Python program that takes a list of elements as input and creates a new list with all the duplicates removed."
   ]
  },
  {
   "cell_type": "code",
   "execution_count": null,
   "metadata": {},
   "outputs": [],
   "source": []
  },
  {
   "cell_type": "markdown",
   "metadata": {},
   "source": [
    "##### Create a program that performs multiple tasks involving different types of exceptions. Implement appropriate error handling for each task."
   ]
  },
  {
   "cell_type": "code",
   "execution_count": null,
   "metadata": {},
   "outputs": [],
   "source": []
  },
  {
   "cell_type": "markdown",
   "metadata": {},
   "source": [
    "##### Design a Product class with attributes for name, price, and description. Implement a program that allows users to add products to a catalog and display the catalog."
   ]
  },
  {
   "cell_type": "code",
   "execution_count": null,
   "metadata": {},
   "outputs": [],
   "source": []
  }
 ],
 "metadata": {
  "kernelspec": {
   "display_name": "Python 3",
   "language": "python",
   "name": "python3"
  },
  "language_info": {
   "codemirror_mode": {
    "name": "ipython",
    "version": 3
   },
   "file_extension": ".py",
   "mimetype": "text/x-python",
   "name": "python",
   "nbconvert_exporter": "python",
   "pygments_lexer": "ipython3",
   "version": "3.9.7"
  }
 },
 "nbformat": 4,
 "nbformat_minor": 2
}
