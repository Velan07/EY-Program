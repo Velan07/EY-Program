{
 "cells": [
  {
   "cell_type": "code",
   "execution_count": 2,
   "metadata": {},
   "outputs": [
    {
     "data": {
      "text/plain": [
       "120"
      ]
     },
     "execution_count": 2,
     "metadata": {},
     "output_type": "execute_result"
    }
   ],
   "source": [
    "def factorial(n):\n",
    "    if n == 0 or n == 1:\n",
    "        return 1\n",
    "    else:\n",
    "        return n * factorial(n-1)\n",
    "factorial(5)"
   ]
  },
  {
   "cell_type": "code",
   "execution_count": 3,
   "metadata": {},
   "outputs": [
    {
     "name": "stdout",
     "output_type": "stream",
     "text": [
      "19years, 11 months, 16days\n"
     ]
    }
   ],
   "source": [
    "def age():\n",
    "    today = 28+10*30+2023*365\n",
    "    dob = input(\"enter dob: \")\n",
    "    d = int(dob[0:2])\n",
    "    m = int(dob[2:4])\n",
    "    y = int(dob[4:8])\n",
    "    bd = d+m*30+y*365\n",
    "    days = today - bd\n",
    "    year = days // 365\n",
    "    month = (days % 365)//30\n",
    "    day = (days % 365)%30\n",
    "    print(f\"{year}years, {month} months, {day}days\")\n",
    "age()\n",
    "    \n"
   ]
  },
  {
   "cell_type": "code",
   "execution_count": 4,
   "metadata": {},
   "outputs": [
    {
     "name": "stdout",
     "output_type": "stream",
     "text": [
      "valid\n"
     ]
    }
   ],
   "source": [
    "def email():\n",
    "    email = input(\"Enter you mai: \")\n",
    "    if \"@\" in email and \".\" in email:\n",
    "        print(\"valid\")\n",
    "    else:\n",
    "        print(\"invalid\")\n",
    "\n",
    "email()"
   ]
  },
  {
   "cell_type": "code",
   "execution_count": 5,
   "metadata": {},
   "outputs": [],
   "source": [
    "class students:\n",
    "    def __init__(self, name, roll_no, branch, paid_fee):\n",
    "        self.name = name\n",
    "        self.roll_no = roll_no\n",
    "        self.branch = branch\n",
    "        self.paid_fee = paid_fee\n",
    "    \n",
    "    def get_summary(self):\n",
    "        return f\"Name : {self.name}, Roll No : {self.roll_no}, Branch : {self.branch}, Paid: {self.paid_fee}\"\n",
    "    \n",
    "xxx = students(\"xxx\", 1234, \"CSE\", 10000)\n",
    "yyy = students(\"yyy\", 1234, \"ECE\", 8000)\n"
   ]
  },
  {
   "cell_type": "code",
   "execution_count": 7,
   "metadata": {},
   "outputs": [
    {
     "name": "stdout",
     "output_type": "stream",
     "text": [
      "1234\n",
      "9000\n"
     ]
    },
    {
     "data": {
      "text/plain": [
       "'Name : xxx, Roll No : 1234, Branch : CSE, Paid: 10000'"
      ]
     },
     "execution_count": 7,
     "metadata": {},
     "output_type": "execute_result"
    }
   ],
   "source": [
    "print(xxx.roll_no)\n",
    "yyy.paid_fee += 500\n",
    "print(yyy.paid_fee)\n",
    "xxx.get_summary()\n"
   ]
  },
  {
   "cell_type": "markdown",
   "metadata": {},
   "source": [
    "### Variable vs Properties"
   ]
  },
  {
   "cell_type": "code",
   "execution_count": 7,
   "metadata": {},
   "outputs": [
    {
     "name": "stdout",
     "output_type": "stream",
     "text": [
      "Name of the student is xxx, and his/her roll no is 1234\n",
      " Name    : xxx\n",
      " Roll NO : 1234\n",
      " Branch  : CSE\n",
      " Paid Fee: 15000\n"
     ]
    }
   ],
   "source": [
    "name = \"xxx\"\n",
    "roll_no = 1234\n",
    "branch = \"CSE\"\n",
    "paid_fee = 15000\n",
    "\n",
    "def get_roll_no():\n",
    "\tprint(f'Name of the student is {name}, and his/her roll no is {roll_no}')\n",
    "\n",
    "def get_summary():\n",
    "\tprint(f\" Name    : {name}\\n Roll NO : {roll_no}\\n Branch  : {branch}\\n Paid Fee: {paid_fee}\")\n",
    "\n",
    "\n",
    "get_roll_no()\n",
    "get_summary()\n"
   ]
  },
  {
   "cell_type": "code",
   "execution_count": 8,
   "metadata": {},
   "outputs": [],
   "source": [
    "class teacher:\n",
    "\tdef __init__(self, name, id, dob, ph_no, dept):\n",
    "\t\tself.name = name\n",
    "\t\tself.id = id\n",
    "\t\tself.dob = dob\n",
    "\t\tself.ph_no = ph_no\n",
    "\t\tself.dept = dept\n",
    "\n",
    "class non_teachers:\n",
    "\tdef __init__(self, name, id, dob, ph_no):\n",
    "\t\tself.name = name\n",
    "\t\tself.id = id\n",
    "\t\tself.dob = dob\n",
    "\t\tself.ph_no = ph_no\n",
    "\n",
    "class student:\n",
    "\tdef __init__(self, name, id, dob, ph_no, paid_fee, passing_year, dept):\n",
    "\t\tself.name = name\n",
    "\t\tself.id = id\n",
    "\t\tself.dob = dob\n",
    "\t\tself.ph_no = ph_no\n",
    "\t\tself.dept = dept\n",
    "\t\tself.paid_fee = paid_fee\n",
    "\t\tself.passing_year = passing_year\n",
    "\t\t"
   ]
  },
  {
   "cell_type": "code",
   "execution_count": 9,
   "metadata": {},
   "outputs": [],
   "source": [
    "class person:\n",
    "\tdef __init__(self, name, id, dob, ph_no):\n",
    "\t\tself.name = name\n",
    "\t\tself.id = id\n",
    "\t\tself.dob = dob\n",
    "\t\tself.ph_no = ph_no\n",
    "\n",
    "class teacher(person):\n",
    "\tdef __init__(self, name, id, dob, ph_no, dept):\n",
    "\t\tsuper().__init__(name, id, dob, ph_no)\n",
    "\t\tself.dept = dept\n",
    "\t\t\n",
    "\t\t\n",
    "class non_teachers(person):\n",
    "\tpass\n",
    "\n",
    "class student(teacher):\n",
    "\tdef __init__(self, name, id, dob, ph_no, dept, paid_fee, passing_year):\n",
    "\t\tsuper().__init__(name, id, dob, ph_no, dept)\n",
    "\t\tself.paid_fee = paid_fee\n",
    "\t\tself.passing_year = passing_year"
   ]
  },
  {
   "cell_type": "code",
   "execution_count": 12,
   "metadata": {},
   "outputs": [],
   "source": [
    "xxx = teacher('xxx', 101, '01-01-1996', 9087654321, \"CSE\")\n",
    "yyy = teacher('yyy', 102, '01-01-1996', 9087654321, \"CSE\")"
   ]
  }
 ],
 "metadata": {
  "kernelspec": {
   "display_name": "Python 3",
   "language": "python",
   "name": "python3"
  },
  "language_info": {
   "codemirror_mode": {
    "name": "ipython",
    "version": 3
   },
   "file_extension": ".py",
   "mimetype": "text/x-python",
   "name": "python",
   "nbconvert_exporter": "python",
   "pygments_lexer": "ipython3",
   "version": "3.9.7"
  },
  "orig_nbformat": 4
 },
 "nbformat": 4,
 "nbformat_minor": 2
}
